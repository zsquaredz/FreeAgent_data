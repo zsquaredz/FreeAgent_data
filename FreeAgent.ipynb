{
 "cells": [
  {
   "cell_type": "code",
   "execution_count": 1,
   "metadata": {},
   "outputs": [],
   "source": [
    "import os\n",
    "import numpy as np\n",
    "import pandas as pd\n",
    "import matplotlib.pyplot as plt\n",
    "import sklearn as sklearn\n",
    "from sklearn.preprocessing import LabelEncoder\n",
    "from sklearn.ensemble import RandomForestRegressor\n",
    "import seaborn as sns\n",
    "from collections import defaultdict\n",
    "import csv\n",
    "from sklearn.naive_bayes import GaussianNB\n",
    "from sklearn.metrics import accuracy_score, confusion_matrix,log_loss\n",
    "from sklearn.linear_model import LinearRegression\n",
    "from sklearn.linear_model import LogisticRegression, LogisticRegressionCV\n",
    "from sklearn.model_selection import train_test_split, KFold, cross_val_predict\n",
    "from sklearn.dummy import DummyClassifier\n",
    "#from sklearn.cross_validation import KFold\n",
    "from sklearn.svm import SVC"
   ]
  },
  {
   "cell_type": "code",
   "execution_count": 2,
   "metadata": {},
   "outputs": [],
   "source": [
    "data_path = os.path.join(os.getcwd(), 'data', 'attributes_report.csv')\n",
    "data = pd.read_csv(data_path, delimiter = ',')"
   ]
  },
  {
   "cell_type": "code",
   "execution_count": 3,
   "metadata": {},
   "outputs": [
    {
     "name": "stdout",
     "output_type": "stream",
     "text": [
      "<class 'pandas.core.frame.DataFrame'>\n",
      "RangeIndex: 950 entries, 0 to 949\n",
      "Data columns (total 3 columns):\n",
      "company                        950 non-null int64\n",
      "company_type                   950 non-null object\n",
      "subscribed_after_free_trial    950 non-null bool\n",
      "dtypes: bool(1), int64(1), object(1)\n",
      "memory usage: 15.8+ KB\n"
     ]
    }
   ],
   "source": [
    "data.info()"
   ]
  },
  {
   "cell_type": "code",
   "execution_count": 4,
   "metadata": {},
   "outputs": [
    {
     "data": {
      "text/html": [
       "<div>\n",
       "<style>\n",
       "    .dataframe thead tr:only-child th {\n",
       "        text-align: right;\n",
       "    }\n",
       "\n",
       "    .dataframe thead th {\n",
       "        text-align: left;\n",
       "    }\n",
       "\n",
       "    .dataframe tbody tr th {\n",
       "        vertical-align: top;\n",
       "    }\n",
       "</style>\n",
       "<table border=\"1\" class=\"dataframe\">\n",
       "  <thead>\n",
       "    <tr style=\"text-align: right;\">\n",
       "      <th></th>\n",
       "      <th>company</th>\n",
       "      <th>company_type</th>\n",
       "      <th>subscribed_after_free_trial</th>\n",
       "    </tr>\n",
       "  </thead>\n",
       "  <tbody>\n",
       "    <tr>\n",
       "      <th>0</th>\n",
       "      <td>346782</td>\n",
       "      <td>uk_limited_company</td>\n",
       "      <td>False</td>\n",
       "    </tr>\n",
       "    <tr>\n",
       "      <th>1</th>\n",
       "      <td>346783</td>\n",
       "      <td>uk_limited_company</td>\n",
       "      <td>False</td>\n",
       "    </tr>\n",
       "    <tr>\n",
       "      <th>2</th>\n",
       "      <td>346784</td>\n",
       "      <td>uk_limited_company</td>\n",
       "      <td>True</td>\n",
       "    </tr>\n",
       "    <tr>\n",
       "      <th>3</th>\n",
       "      <td>346785</td>\n",
       "      <td>uk_limited_company</td>\n",
       "      <td>False</td>\n",
       "    </tr>\n",
       "    <tr>\n",
       "      <th>4</th>\n",
       "      <td>346786</td>\n",
       "      <td>uk_limited_company</td>\n",
       "      <td>False</td>\n",
       "    </tr>\n",
       "    <tr>\n",
       "      <th>5</th>\n",
       "      <td>346787</td>\n",
       "      <td>uk_limited_company</td>\n",
       "      <td>False</td>\n",
       "    </tr>\n",
       "    <tr>\n",
       "      <th>6</th>\n",
       "      <td>346788</td>\n",
       "      <td>uk_limited_company</td>\n",
       "      <td>False</td>\n",
       "    </tr>\n",
       "    <tr>\n",
       "      <th>7</th>\n",
       "      <td>346789</td>\n",
       "      <td>uk_limited_company</td>\n",
       "      <td>False</td>\n",
       "    </tr>\n",
       "    <tr>\n",
       "      <th>8</th>\n",
       "      <td>346790</td>\n",
       "      <td>uk_limited_company</td>\n",
       "      <td>False</td>\n",
       "    </tr>\n",
       "    <tr>\n",
       "      <th>9</th>\n",
       "      <td>346791</td>\n",
       "      <td>uk_limited_company</td>\n",
       "      <td>False</td>\n",
       "    </tr>\n",
       "  </tbody>\n",
       "</table>\n",
       "</div>"
      ],
      "text/plain": [
       "   company        company_type  subscribed_after_free_trial\n",
       "0   346782  uk_limited_company                        False\n",
       "1   346783  uk_limited_company                        False\n",
       "2   346784  uk_limited_company                         True\n",
       "3   346785  uk_limited_company                        False\n",
       "4   346786  uk_limited_company                        False\n",
       "5   346787  uk_limited_company                        False\n",
       "6   346788  uk_limited_company                        False\n",
       "7   346789  uk_limited_company                        False\n",
       "8   346790  uk_limited_company                        False\n",
       "9   346791  uk_limited_company                        False"
      ]
     },
     "execution_count": 4,
     "metadata": {},
     "output_type": "execute_result"
    }
   ],
   "source": [
    "data.head(10)"
   ]
  },
  {
   "cell_type": "code",
   "execution_count": 5,
   "metadata": {},
   "outputs": [
    {
     "data": {
      "image/png": "[encoded data removed]",
      "text/plain": [
       "<matplotlib.figure.Figure at 0x7f7882974110>"
      ]
     },
     "metadata": {},
     "output_type": "display_data"
    }
   ],
   "source": [
    "ax = sns.countplot(x='company_type', data=data)\n",
    "plt.xlabel('')\n",
    "for p in ax.patches:\n",
    "    ax.annotate('{:.0f}'.format(p.get_height()), (p.get_x()+0.2, p.get_height()+5))\n",
    "plt.show()"
   ]
  },
  {
   "cell_type": "code",
   "execution_count": 6,
   "metadata": {},
   "outputs": [
    {
     "data": {
      "image/png": "[encoded data removed]",
      "text/plain": [
       "<matplotlib.figure.Figure at 0x7f784acecb10>"
      ]
     },
     "metadata": {},
     "output_type": "display_data"
    }
   ],
   "source": [
    "ax = sns.countplot(x='company_type', hue='subscribed_after_free_trial', data=data)\n",
    "plt.xlabel('')\n",
    "for p in ax.patches:\n",
    "    ax.annotate('{:.0f}'.format(p.get_height()), (p.get_x()+0.1, p.get_height()+5))\n",
    "plt.show()"
   ]
  },
  {
   "cell_type": "code",
   "execution_count": 7,
   "metadata": {},
   "outputs": [
    {
     "data": {
      "image/png": "[encoded data removed]",
      "text/plain": [
       "<matplotlib.figure.Figure at 0x7f784aba4910>"
      ]
     },
     "metadata": {},
     "output_type": "display_data"
    }
   ],
   "source": [
    "ax = sns.countplot(x='subscribed_after_free_trial', data=data)\n",
    "for p in ax.patches:\n",
    "    ax.annotate('{:.0f}'.format(p.get_height()), (p.get_x()+0.3, p.get_height()+5))\n",
    "plt.show()"
   ]
  },
  {
   "cell_type": "code",
   "execution_count": 8,
   "metadata": {},
   "outputs": [],
   "source": [
    "path = os.path.join(os.getcwd(), 'data', 'engagement_report.log')\n",
    "log = open(path,'r')"
   ]
  },
  {
   "cell_type": "code",
   "execution_count": 9,
   "metadata": {},
   "outputs": [],
   "source": [
    "line = log.readline()\n",
    "log_data = defaultdict(list)\n",
    "while line :\n",
    "    #print line    \n",
    "    company = line.split(' ')[1]\n",
    "    log_time = int(line.split(' ')[4])\n",
    "    day = line.split(' ')[-1]\n",
    "    #print \"{},{},{}\".format(company, log_time, day)\n",
    "   \n",
    "    #log_data[company] = [log_time]\n",
    "    log_data[company].append(log_time)    \n",
    "    \n",
    "    line = log.readline()\n",
    "log.close()\n",
    "log_data = dict(log_data)\n",
    "log_sum = {}\n",
    "for company in log_data:\n",
    "    log_sum[company] = sum(log_data[company])"
   ]
  },
  {
   "cell_type": "code",
   "execution_count": 10,
   "metadata": {},
   "outputs": [],
   "source": [
    "path = os.path.join(os.getcwd(), 'data', 'result.csv')\n",
    "with open(data_path,'r') as csvinput, open(path, 'w') as csvoutput:\n",
    "    writer = csv.writer(csvoutput, lineterminator='\\n')\n",
    "    reader = csv.reader(csvinput)\n",
    "\n",
    "    all = []\n",
    "    row = next(reader)\n",
    "    row.append('day0')\n",
    "    row.append('day1')\n",
    "    row.append('day2')\n",
    "    row.append('day3')\n",
    "    row.append('day4')\n",
    "    row.append('day5')\n",
    "    row.append('day6')\n",
    "    row.append('total_time_used')\n",
    "    all.append(row)\n",
    "\n",
    "    for row in reader:\n",
    "        row.append(log_data[row[0]][0])        \n",
    "        row.append(log_data[row[0]][1])\n",
    "        row.append(log_data[row[0]][2])\n",
    "        row.append(log_data[row[0]][3])\n",
    "        row.append(log_data[row[0]][4])\n",
    "        row.append(log_data[row[0]][5])\n",
    "        row.append(log_data[row[0]][6])\n",
    "        row.append(log_sum[row[0]])\n",
    "        all.append(row)\n",
    "\n",
    "    writer.writerows(all)"
   ]
  },
  {
   "cell_type": "code",
   "execution_count": 11,
   "metadata": {},
   "outputs": [],
   "source": [
    "data_path_result = os.path.join(os.getcwd(), 'data', 'result.csv')\n",
    "data_result = pd.read_csv(data_path_result, delimiter = ',')"
   ]
  },
  {
   "cell_type": "code",
   "execution_count": 12,
   "metadata": {},
   "outputs": [],
   "source": [
    "data_result.head(10)\n",
    "data_transformed = data_result"
   ]
  },
  {
   "cell_type": "code",
   "execution_count": 13,
   "metadata": {},
   "outputs": [
    {
     "data": {
      "image/png": "[encoded data removed]",
      "text/plain": [
       "<matplotlib.figure.Figure at 0x7f784ac85090>"
      ]
     },
     "metadata": {},
     "output_type": "display_data"
    }
   ],
   "source": [
    "ax = sns.countplot(x='total_time_used', hue='subscribed_after_free_trial', data=data_result)\n",
    "plt.xlabel('7_days_total_usage_time')\n",
    "for p in ax.patches:\n",
    "    ax.annotate('{:.0f}'.format(p.get_height()), (p.get_x()+0.1, p.get_height()+5))\n",
    "plt.show()"
   ]
  },
  {
   "cell_type": "code",
   "execution_count": 14,
   "metadata": {},
   "outputs": [],
   "source": [
    "le = LabelEncoder().fit(data_transformed['company_type'])\n",
    "data_transformed['company_type'] = le.transform(data_transformed['company_type'])"
   ]
  },
  {
   "cell_type": "code",
   "execution_count": 15,
   "metadata": {},
   "outputs": [
    {
     "data": {
      "text/html": [
       "<div>\n",
       "<style>\n",
       "    .dataframe thead tr:only-child th {\n",
       "        text-align: right;\n",
       "    }\n",
       "\n",
       "    .dataframe thead th {\n",
       "        text-align: left;\n",
       "    }\n",
       "\n",
       "    .dataframe tbody tr th {\n",
       "        vertical-align: top;\n",
       "    }\n",
       "</style>\n",
       "<table border=\"1\" class=\"dataframe\">\n",
       "  <thead>\n",
       "    <tr style=\"text-align: right;\">\n",
       "      <th></th>\n",
       "      <th>company</th>\n",
       "      <th>company_type</th>\n",
       "      <th>subscribed_after_free_trial</th>\n",
       "      <th>day0</th>\n",
       "      <th>day1</th>\n",
       "      <th>day2</th>\n",
       "      <th>day3</th>\n",
       "      <th>day4</th>\n",
       "      <th>day5</th>\n",
       "      <th>day6</th>\n",
       "      <th>total_time_used</th>\n",
       "    </tr>\n",
       "  </thead>\n",
       "  <tbody>\n",
       "    <tr>\n",
       "      <th>0</th>\n",
       "      <td>346782</td>\n",
       "      <td>0</td>\n",
       "      <td>False</td>\n",
       "      <td>1</td>\n",
       "      <td>0</td>\n",
       "      <td>1</td>\n",
       "      <td>0</td>\n",
       "      <td>1</td>\n",
       "      <td>0</td>\n",
       "      <td>0</td>\n",
       "      <td>3</td>\n",
       "    </tr>\n",
       "    <tr>\n",
       "      <th>1</th>\n",
       "      <td>346783</td>\n",
       "      <td>0</td>\n",
       "      <td>False</td>\n",
       "      <td>0</td>\n",
       "      <td>0</td>\n",
       "      <td>0</td>\n",
       "      <td>0</td>\n",
       "      <td>0</td>\n",
       "      <td>0</td>\n",
       "      <td>0</td>\n",
       "      <td>0</td>\n",
       "    </tr>\n",
       "    <tr>\n",
       "      <th>2</th>\n",
       "      <td>346784</td>\n",
       "      <td>0</td>\n",
       "      <td>True</td>\n",
       "      <td>1</td>\n",
       "      <td>0</td>\n",
       "      <td>0</td>\n",
       "      <td>1</td>\n",
       "      <td>4</td>\n",
       "      <td>1</td>\n",
       "      <td>0</td>\n",
       "      <td>7</td>\n",
       "    </tr>\n",
       "    <tr>\n",
       "      <th>3</th>\n",
       "      <td>346785</td>\n",
       "      <td>0</td>\n",
       "      <td>False</td>\n",
       "      <td>0</td>\n",
       "      <td>0</td>\n",
       "      <td>0</td>\n",
       "      <td>0</td>\n",
       "      <td>0</td>\n",
       "      <td>0</td>\n",
       "      <td>0</td>\n",
       "      <td>0</td>\n",
       "    </tr>\n",
       "    <tr>\n",
       "      <th>4</th>\n",
       "      <td>346786</td>\n",
       "      <td>0</td>\n",
       "      <td>False</td>\n",
       "      <td>0</td>\n",
       "      <td>0</td>\n",
       "      <td>0</td>\n",
       "      <td>0</td>\n",
       "      <td>0</td>\n",
       "      <td>0</td>\n",
       "      <td>0</td>\n",
       "      <td>0</td>\n",
       "    </tr>\n",
       "    <tr>\n",
       "      <th>5</th>\n",
       "      <td>346787</td>\n",
       "      <td>0</td>\n",
       "      <td>False</td>\n",
       "      <td>0</td>\n",
       "      <td>0</td>\n",
       "      <td>0</td>\n",
       "      <td>0</td>\n",
       "      <td>1</td>\n",
       "      <td>0</td>\n",
       "      <td>0</td>\n",
       "      <td>1</td>\n",
       "    </tr>\n",
       "  </tbody>\n",
       "</table>\n",
       "</div>"
      ],
      "text/plain": [
       "   company  company_type  subscribed_after_free_trial  day0  day1  day2  day3  \\\n",
       "0   346782             0                        False     1     0     1     0   \n",
       "1   346783             0                        False     0     0     0     0   \n",
       "2   346784             0                         True     1     0     0     1   \n",
       "3   346785             0                        False     0     0     0     0   \n",
       "4   346786             0                        False     0     0     0     0   \n",
       "5   346787             0                        False     0     0     0     0   \n",
       "\n",
       "   day4  day5  day6  total_time_used  \n",
       "0     1     0     0                3  \n",
       "1     0     0     0                0  \n",
       "2     4     1     0                7  \n",
       "3     0     0     0                0  \n",
       "4     0     0     0                0  \n",
       "5     1     0     0                1  "
      ]
     },
     "execution_count": 15,
     "metadata": {},
     "output_type": "execute_result"
    }
   ],
   "source": [
    "data_transformed.head(6)"
   ]
  },
  {
   "cell_type": "code",
   "execution_count": 16,
   "metadata": {},
   "outputs": [
    {
     "data": {
      "text/html": [
       "<div>\n",
       "<style>\n",
       "    .dataframe thead tr:only-child th {\n",
       "        text-align: right;\n",
       "    }\n",
       "\n",
       "    .dataframe thead th {\n",
       "        text-align: left;\n",
       "    }\n",
       "\n",
       "    .dataframe tbody tr th {\n",
       "        vertical-align: top;\n",
       "    }\n",
       "</style>\n",
       "<table border=\"1\" class=\"dataframe\">\n",
       "  <thead>\n",
       "    <tr style=\"text-align: right;\">\n",
       "      <th></th>\n",
       "      <th>company_type</th>\n",
       "      <th>day0</th>\n",
       "      <th>day1</th>\n",
       "      <th>day2</th>\n",
       "      <th>day3</th>\n",
       "      <th>day4</th>\n",
       "      <th>day5</th>\n",
       "      <th>day6</th>\n",
       "    </tr>\n",
       "  </thead>\n",
       "  <tbody>\n",
       "    <tr>\n",
       "      <th>0</th>\n",
       "      <td>0</td>\n",
       "      <td>1</td>\n",
       "      <td>0</td>\n",
       "      <td>1</td>\n",
       "      <td>0</td>\n",
       "      <td>1</td>\n",
       "      <td>0</td>\n",
       "      <td>0</td>\n",
       "    </tr>\n",
       "    <tr>\n",
       "      <th>1</th>\n",
       "      <td>0</td>\n",
       "      <td>0</td>\n",
       "      <td>0</td>\n",
       "      <td>0</td>\n",
       "      <td>0</td>\n",
       "      <td>0</td>\n",
       "      <td>0</td>\n",
       "      <td>0</td>\n",
       "    </tr>\n",
       "    <tr>\n",
       "      <th>2</th>\n",
       "      <td>0</td>\n",
       "      <td>1</td>\n",
       "      <td>0</td>\n",
       "      <td>0</td>\n",
       "      <td>1</td>\n",
       "      <td>4</td>\n",
       "      <td>1</td>\n",
       "      <td>0</td>\n",
       "    </tr>\n",
       "    <tr>\n",
       "      <th>3</th>\n",
       "      <td>0</td>\n",
       "      <td>0</td>\n",
       "      <td>0</td>\n",
       "      <td>0</td>\n",
       "      <td>0</td>\n",
       "      <td>0</td>\n",
       "      <td>0</td>\n",
       "      <td>0</td>\n",
       "    </tr>\n",
       "    <tr>\n",
       "      <th>4</th>\n",
       "      <td>0</td>\n",
       "      <td>0</td>\n",
       "      <td>0</td>\n",
       "      <td>0</td>\n",
       "      <td>0</td>\n",
       "      <td>0</td>\n",
       "      <td>0</td>\n",
       "      <td>0</td>\n",
       "    </tr>\n",
       "  </tbody>\n",
       "</table>\n",
       "</div>"
      ],
      "text/plain": [
       "   company_type  day0  day1  day2  day3  day4  day5  day6\n",
       "0             0     1     0     1     0     1     0     0\n",
       "1             0     0     0     0     0     0     0     0\n",
       "2             0     1     0     0     1     4     1     0\n",
       "3             0     0     0     0     0     0     0     0\n",
       "4             0     0     0     0     0     0     0     0"
      ]
     },
     "execution_count": 16,
     "metadata": {},
     "output_type": "execute_result"
    }
   ],
   "source": [
    "X = data_transformed\n",
    "X = X.drop('subscribed_after_free_trial', axis=1)\n",
    "X = X.drop('total_time_used', axis=1)\n",
    "X = X.drop('company', axis=1)\n",
    "y = data_transformed['subscribed_after_free_trial']\n",
    "X.head(5)"
   ]
  },
  {
   "cell_type": "code",
   "execution_count": 17,
   "metadata": {},
   "outputs": [
    {
     "name": "stdout",
     "output_type": "stream",
     "text": [
      "Baseline performance(Classification accuracy) on train data: 0.830526315789\n"
     ]
    }
   ],
   "source": [
    "# build a most frequent classifier\n",
    "mf = DummyClassifier(strategy='most_frequent')\n",
    "# fit the clean data to the classifier\n",
    "mf.fit(X, y)\n",
    "# calculate the classification accuracy \n",
    "ca_train = mf.score(X,y)\n",
    "print('Baseline performance(Classification accuracy) on train data: {}'.format(ca_train))"
   ]
  },
  {
   "cell_type": "code",
   "execution_count": 18,
   "metadata": {},
   "outputs": [
    {
     "name": "stdout",
     "output_type": "stream",
     "text": [
      "Classification accuracy: 0.947368421053\n"
     ]
    }
   ],
   "source": [
    "# using gaussian naive bayes\n",
    "clf = GaussianNB()\n",
    "clf.fit(X, y)\n",
    "ca = clf.score(X,y)\n",
    "print('Classification accuracy: {}'.format(ca))"
   ]
  },
  {
   "cell_type": "code",
   "execution_count": 19,
   "metadata": {},
   "outputs": [
    {
     "name": "stdout",
     "output_type": "stream",
     "text": [
      "Classification accuracy using KFold: 0.99474\n"
     ]
    }
   ],
   "source": [
    "kf = KFold(n_splits=5, shuffle=True, random_state=0)\n",
    "kf.split(X)\n",
    "y_pred = cross_val_predict(clf, X, y, cv=kf)\n",
    "ca = clf.score(X, y_pred)\n",
    "print('Classification accuracy using KFold: {:.5f}'.format(ca))"
   ]
  },
  {
   "cell_type": "code",
   "execution_count": 20,
   "metadata": {},
   "outputs": [
    {
     "name": "stdout",
     "output_type": "stream",
     "text": [
      "Classification accuracy of the LogisticRegression classifier on training set: 0.97579\n"
     ]
    }
   ],
   "source": [
    "lr = LogisticRegression(solver='lbfgs')\n",
    "lr.fit(X, y)\n",
    "ca = lr.score(X, y)\n",
    "print('Classification accuracy of the LogisticRegression classifier on training set: {:.5f}'.format(ca))"
   ]
  },
  {
   "cell_type": "code",
   "execution_count": 21,
   "metadata": {},
   "outputs": [
    {
     "name": "stdout",
     "output_type": "stream",
     "text": [
      "Classification accuracy using KFold: 0.99684\n"
     ]
    }
   ],
   "source": [
    "kf = KFold(n_splits=5, shuffle=True, random_state=0)\n",
    "kf.split(X)\n",
    "y_pred = cross_val_predict(lr, X, y, cv=kf)\n",
    "ca = lr.score(X, y_pred)\n",
    "print('Classification accuracy using KFold: {:.5f}'.format(ca))"
   ]
  },
  {
   "cell_type": "code",
   "execution_count": 22,
   "metadata": {},
   "outputs": [
    {
     "name": "stdout",
     "output_type": "stream",
     "text": [
      "Classification accuracy on train data: 0.94737\n",
      "Classification accuracy on test data: 0.94737\n"
     ]
    }
   ],
   "source": [
    "X_train, X_test, y_train, y_test = train_test_split(X, y, train_size=0.8, test_size=0.2, random_state=0)\n",
    "clf = GaussianNB()\n",
    "clf.fit(X_train, y_train)\n",
    "ca_tr = clf.score(X_train,y_train)\n",
    "ca = clf.score(X_test,y_test)\n",
    "print('Classification accuracy on train data: {:.5f}'.format(ca_tr))\n",
    "print('Classification accuracy on test data: {:.5f}'.format(ca))"
   ]
  },
  {
   "cell_type": "code",
   "execution_count": 23,
   "metadata": {},
   "outputs": [
    {
     "name": "stdout",
     "output_type": "stream",
     "text": [
      "Classification accuracy on train data: 0.94737\n",
      "Classification accuracy on test data: 0.98947\n"
     ]
    }
   ],
   "source": [
    "X_train, X_test, y_train, y_test = train_test_split(X, y, train_size=0.8, test_size=0.2, random_state=0)\n",
    "lr = LogisticRegression(solver='lbfgs')\n",
    "lr.fit(X_train, y_train)\n",
    "ca_tr = clf.score(X_train,y_train)\n",
    "ca = lr.score(X_test, y_test)\n",
    "print('Classification accuracy on train data: {:.5f}'.format(ca_tr))\n",
    "print('Classification accuracy on test data: {:.5f}'.format(ca))"
   ]
  },
  {
   "cell_type": "code",
   "execution_count": 24,
   "metadata": {},
   "outputs": [
    {
     "name": "stdout",
     "output_type": "stream",
     "text": [
      "Linear SVC classification accuracy on training set: 0.97579\n",
      "\n",
      "Radial Basis Function SVC classification accuracy on training set: 0.98211\n",
      "\n",
      "Polynomial SVC classification accuracy on training set: 0.98105\n"
     ]
    }
   ],
   "source": [
    "\n",
    "#svc_linear = SVC(kernel='linear')\n",
    "svc_linear = SVC(kernel='linear')\n",
    "svc_linear.fit(X, y)\n",
    "ca = svc_linear.score(X, y)\n",
    "print('Linear SVC classification accuracy on training set: {:.5f}'.format(ca))\n",
    "\n",
    "svc_rbf = SVC(kernel='rbf')\n",
    "svc_rbf.fit(X, y)\n",
    "ca = svc_rbf.score(X, y)\n",
    "print('\\nRadial Basis Function SVC classification accuracy on training set: {:.5f}'.format(ca))\n",
    "\n",
    "svc_poly = SVC(kernel='poly')\n",
    "svc_poly.fit(X, y)\n",
    "ca = svc_poly.score(X, y)\n",
    "print('\\nPolynomial SVC classification accuracy on training set: {:.5f}'.format(ca))"
   ]
  },
  {
   "cell_type": "code",
   "execution_count": 25,
   "metadata": {},
   "outputs": [
    {
     "name": "stdout",
     "output_type": "stream",
     "text": [
      "Classification accuracy of the LogisticRegression classifier on training set: 0.85973\n"
     ]
    }
   ],
   "source": [
    "kf = KFold(n_splits=5, shuffle=True, random_state=0)\n",
    "kf.split(X)\n",
    "rf = RandomForestRegressor(n_estimators=1000, random_state=0, max_depth=100)\n",
    "rf.fit(X,y)\n",
    "y_pred = cross_val_predict(rf, X, y, cv=kf)\n",
    "ca_rf = rf.score(X, y_pred)\n",
    "print('Classification accuracy of the LogisticRegression classifier on training set: {:.5f}'.format(ca_rf))"
   ]
  },
  {
   "cell_type": "code",
   "execution_count": 26,
   "metadata": {},
   "outputs": [],
   "source": [
    "Cs = np.logspace(-1,1,100)\n",
    "score_array = np.zeros((1,100))\n",
    "for n in range(len(Cs)):\n",
    "    lr = LogisticRegression(solver='lbfgs', C=Cs[n])\n",
    "    lr.fit(X, y)\n",
    "    score_array[0][n] = lr.score(X, y)\n",
    "    \n",
    "score_array_mean = np.zeros((100,1))\n",
    "for n in range(100):\n",
    "    score_array_mean[n][0] = score_array[:,n]"
   ]
  },
  {
   "cell_type": "code",
   "execution_count": 27,
   "metadata": {},
   "outputs": [
    {
     "data": {
      "image/png": "[encoded data removed]",
      "text/plain": [
       "<matplotlib.figure.Figure at 0x7f784a8e4390>"
      ]
     },
     "metadata": {},
     "output_type": "display_data"
    }
   ],
   "source": [
    "plt.figure(figsize=(10,8))\n",
    "plt.semilogx(Cs, score_array_mean, basex=10)\n",
    "plt.xlabel('C parameter')\n",
    "plt.ylabel('Accuracy')\n",
    "plt.title('Accuracy against C parameter')\n",
    "plt.show()"
   ]
  },
  {
   "cell_type": "code",
   "execution_count": 28,
   "metadata": {},
   "outputs": [
    {
     "name": "stdout",
     "output_type": "stream",
     "text": [
      "The optimal value for this parameter C: 0.151991108295\n",
      "\n",
      "SVC classification accuracy using optimal C on training set: 0.97789\n",
      "\n",
      "Classification accuracy using KFold: 0.99579\n"
     ]
    }
   ],
   "source": [
    "C_optimal = Cs[score_array_mean.argmax()]\n",
    "print('The optimal value for this parameter C: {}'.format(C_optimal))\n",
    "\n",
    "lr = LogisticRegression(solver='lbfgs', C=C_optimal)\n",
    "lr.fit(X, y)\n",
    "ca = lr.score(X, y)\n",
    "print('\\nSVC classification accuracy using optimal C on training set: {:.5f}'.format(ca))\n",
    "kf = KFold(n_splits=5, shuffle=True, random_state=0)\n",
    "kf.split(X)\n",
    "y_pred = cross_val_predict(lr, X, y, cv=kf)\n",
    "ca = lr.score(X, y_pred)\n",
    "print('\\nClassification accuracy using KFold: {:.5f}'.format(ca))"
   ]
  },
  {
   "cell_type": "code",
   "execution_count": 31,
   "metadata": {},
   "outputs": [
    {
     "name": "stdout",
     "output_type": "stream",
     "text": [
      "\n",
      "SVC classification accuracy using newton-cg, optimal C on training set: 0.97789\n",
      "\n",
      "SVC classification accuracy using lbfgs, optimal C on training set: 0.97789\n",
      "\n",
      "SVC classification accuracy using liblinear, optimal C on training set: 0.97263\n",
      "\n",
      "SVC classification accuracy using sag, optimal C on training set: 0.97789\n",
      "\n",
      "SVC classification accuracy using saga, optimal C on training set: 0.97789\n"
     ]
    }
   ],
   "source": [
    "# solver : {‘newton-cg’, ‘lbfgs’, ‘liblinear’, ‘sag’, ‘saga’}\n",
    "lr = LogisticRegression(solver='newton-cg', C=C_optimal)\n",
    "lr.fit(X, y)\n",
    "ca = lr.score(X, y)\n",
    "print('\\nSVC classification accuracy using newton-cg, optimal C on training set: {:.5f}'.format(ca))\n",
    "lr = LogisticRegression(solver='lbfgs', C=C_optimal)\n",
    "lr.fit(X, y)\n",
    "ca = lr.score(X, y)\n",
    "print('\\nSVC classification accuracy using lbfgs, optimal C on training set: {:.5f}'.format(ca))\n",
    "lr = LogisticRegression(solver='liblinear', C=C_optimal)\n",
    "lr.fit(X, y)\n",
    "ca = lr.score(X, y)\n",
    "print('\\nSVC classification accuracy using liblinear, optimal C on training set: {:.5f}'.format(ca))\n",
    "lr = LogisticRegression(solver='sag', C=C_optimal)\n",
    "lr.fit(X, y)\n",
    "ca = lr.score(X, y)\n",
    "print('\\nSVC classification accuracy using sag, optimal C on training set: {:.5f}'.format(ca))\n",
    "lr = LogisticRegression(solver='saga', C=C_optimal)\n",
    "lr.fit(X, y)\n",
    "ca = lr.score(X, y)\n",
    "print('\\nSVC classification accuracy using saga, optimal C on training set: {:.5f}'.format(ca))"
   ]
  },
  {
   "cell_type": "code",
   "execution_count": null,
   "metadata": {},
   "outputs": [],
   "source": []
  }
 ],
 "metadata": {
  "kernelspec": {
   "display_name": "Python 2",
   "language": "python",
   "name": "python2"
  },
  "language_info": {
   "codemirror_mode": {
    "name": "ipython",
    "version": 2
   },
   "file_extension": ".py",
   "mimetype": "text/x-python",
   "name": "python",
   "nbconvert_exporter": "python",
   "pygments_lexer": "ipython2",
   "version": "2.7.13"
  }
 },
 "nbformat": 4,
 "nbformat_minor": 2
}
